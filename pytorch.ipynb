{
 "cells": [
  {
   "cell_type": "code",
   "execution_count": 133,
   "metadata": {},
   "outputs": [],
   "source": [
    "import pandas as pd\n",
    "df = pd.read_csv('digit-recognizer/train.csv')"
   ]
  },
  {
   "cell_type": "code",
   "execution_count": 141,
   "metadata": {},
   "outputs": [],
   "source": [
    "def getimg(i):\n",
    "    return df.drop('label', axis=1).loc[i].to_numpy().reshape(28, 28)"
   ]
  },
  {
   "cell_type": "code",
   "execution_count": 142,
   "metadata": {},
   "outputs": [
    {
     "data": {
      "image/png": "[encoded data removed]",
      "text/plain": [
       "<Figure size 432x288 with 4 Axes>"
      ]
     },
     "metadata": {
      "needs_background": "light"
     },
     "output_type": "display_data"
    }
   ],
   "source": [
    "import matplotlib.pyplot as plt\n",
    "for i in range(4):\n",
    "    plt.subplot(2, 2, i + 1)\n",
    "    plt.imshow(getimg(i), cmap='Greys')"
   ]
  },
  {
   "cell_type": "code",
   "execution_count": 147,
   "metadata": {},
   "outputs": [],
   "source": [
    "import torch\n",
    "from torch import nn\n",
    "class ANNModel(nn.Module):\n",
    "    def __init__(self, input_dim, hidden_dim, output_dim):\n",
    "        super(ANNModel, self).__init__()\n",
    "        self.fc1 = nn.Linear(input_dim, hidden_dim)\n",
    "        self.relu1 = nn.ReLU()\n",
    "        \n",
    "        self.fc2 = nn.Linear(hidden_dim, hidden_dim)\n",
    "        self.tanh2 = nn.Tanh()\n",
    "        \n",
    "        self.fc3 = nn.Linear(hidden_dim, hidden_dim)\n",
    "        self.elu3 = nn.ELU()\n",
    "        \n",
    "        self.fc4 = nn.Linear(hidden_dim, output_dim)\n",
    "\n",
    "    def forward(self, x):\n",
    "        out = self.fc1(x)\n",
    "        out = self.relu1(out)\n",
    "        out = self.fc2(out)\n",
    "        out = self.tanh2(out)\n",
    "        out = self.fc3(out)\n",
    "        out = self.elu3(out)\n",
    "        out = self.fc4(out)\n",
    "        return out\n",
    "\n",
    "input_dim = 28 * 28\n",
    "hidden_dim = 150\n",
    "output_dim = 10\n",
    "model = ANNModel(input_dim, hidden_dim, output_dim)\n",
    "error = nn.CrossEntropyLoss()\n",
    "learning_rate = 0.02\n",
    "optimizer = torch.optim.SGD(model.parameters(), lr=learning_rate)"
   ]
  },
  {
   "cell_type": "code",
   "execution_count": 171,
   "metadata": {},
   "outputs": [],
   "source": [
    "from sklearn.model_selection import train_test_split"
   ]
  },
  {
   "cell_type": "code",
   "execution_count": 175,
   "metadata": {},
   "outputs": [],
   "source": [
    "# prepare data\n",
    "labels_numpy = df.label.values\n",
    "features_numpy = df.loc[:, df.columns != 'label'].values\n",
    "\n",
    "features_train, features_test, labels_train, labels_test = train_test_split(\n",
    "    features_numpy, labels_numpy, test_size=0.2, random_state=42)\n",
    "\n",
    "num_train = len(features_train)\n",
    "labels_train = torch.from_numpy(labels_train)\n",
    "features_train = torch.from_numpy(features_train) / 255.0\n",
    "\n",
    "labels_test = torch.from_numpy(labels_test)\n",
    "features_test = torch.from_numpy(features_test) / 255.0\n",
    "\n",
    "batch_size = 100\n",
    "n_iters = 10000\n",
    "num_epochs = int(n_iters / (num_train / batch_size))\n",
    "\n",
    "from torch.utils.data import DataLoader\n",
    "\n",
    "dataset_train = torch.utils.data.TensorDataset(features_train, labels_train)\n",
    "dataloader_train = DataLoader(dataset_train, batch_size=batch_size, shuffle=False)\n",
    "\n",
    "dataset_test = torch.utils.data.TensorDataset(features_test, labels_test)\n",
    "dataloader_test = DataLoader(dataset_test, batch_size=batch_size, shuffle=False)"
   ]
  },
  {
   "cell_type": "code",
   "execution_count": 176,
   "metadata": {},
   "outputs": [
    {
     "name": "stdout",
     "output_type": "stream",
     "text": [
      "Iteration: 500 Loss: 0.6581493616104126 Accuracy 81.35713958740234\n",
      "Iteration: 1000 Loss: 0.45472612977027893 Accuracy 87.73809814453125\n",
      "Iteration: 1500 Loss: 0.21353109180927277 Accuracy 89.75\n",
      "Iteration: 2000 Loss: 0.29463863372802734 Accuracy 90.91666412353516\n",
      "Iteration: 2500 Loss: 0.28960373997688293 Accuracy 92.30952453613281\n",
      "Iteration: 3000 Loss: 0.10757309198379517 Accuracy 93.0952377319336\n",
      "Iteration: 3500 Loss: 0.230965256690979 Accuracy 93.85713958740234\n",
      "Iteration: 4000 Loss: 0.057650789618492126 Accuracy 94.22618865966797\n",
      "Iteration: 4500 Loss: 0.28457018733024597 Accuracy 94.69047546386719\n",
      "Iteration: 5000 Loss: 0.08765833079814911 Accuracy 95.07142639160156\n",
      "Iteration: 5500 Loss: 0.16796113550662994 Accuracy 95.14286041259766\n",
      "Iteration: 6000 Loss: 0.17926426231861115 Accuracy 95.53571319580078\n",
      "Iteration: 6500 Loss: 0.09392769634723663 Accuracy 95.5952377319336\n",
      "Iteration: 7000 Loss: 0.1187341958284378 Accuracy 95.92857360839844\n",
      "Iteration: 7500 Loss: 0.11659551411867142 Accuracy 95.89286041259766\n",
      "Iteration: 8000 Loss: 0.18429166078567505 Accuracy 96.20237731933594\n",
      "Iteration: 8500 Loss: 0.06313276290893555 Accuracy 96.35713958740234\n",
      "Iteration: 9000 Loss: 0.046409569680690765 Accuracy 96.33333587646484\n",
      "Iteration: 9500 Loss: 0.019162574782967567 Accuracy 96.54762268066406\n"
     ]
    }
   ],
   "source": [
    "from torch.autograd import Variable\n",
    "count = 0\n",
    "loss_list = []\n",
    "iteration_list = []\n",
    "accuracy_list = []\n",
    "for epoch in range(num_epochs):\n",
    "    for i, (images, labels) in enumerate(dataloader_train):\n",
    "        features = Variable(images.view(-1, 28 * 28))\n",
    "        labels = Variable(labels)\n",
    "        \n",
    "        optimizer.zero_grad()\n",
    "        outputs = model(features)\n",
    "        \n",
    "        loss = error(outputs, labels)\n",
    "        loss.backward()\n",
    "        \n",
    "        optimizer.step()\n",
    "        \n",
    "        count += 1\n",
    "        if count % 50 == 0:\n",
    "            correct = 0\n",
    "            total = 0\n",
    "            for images, labels in dataloader_test:\n",
    "                test = Variable(images.view(-1, 28 * 28))\n",
    "                outputs = model(test) # only forward\n",
    "                predicted = torch.max(outputs.data, 1)[1]\n",
    "                total += len(labels)\n",
    "                correct += (predicted == labels).sum()\n",
    "            accuracy = 100 * correct / float(total)\n",
    "                \n",
    "            # store loss and iteration\n",
    "            loss_list.append(loss.data)\n",
    "            iteration_list.append(count)\n",
    "            accuracy_list.append(accuracy)\n",
    "        if count % 500 == 0:\n",
    "            print(f\"Iteration: {count} Loss: {loss.data} Accuracy {accuracy}\")\n",
    "                "
   ]
  },
  {
   "cell_type": "code",
   "execution_count": 177,
   "metadata": {},
   "outputs": [
    {
     "data": {
      "image/png": "[encoded data removed]",
      "text/plain": [
       "<Figure size 432x288 with 1 Axes>"
      ]
     },
     "metadata": {
      "needs_background": "light"
     },
     "output_type": "display_data"
    },
    {
     "data": {
      "image/png": "[encoded data removed]",
      "text/plain": [
       "<Figure size 432x288 with 1 Axes>"
      ]
     },
     "metadata": {
      "needs_background": "light"
     },
     "output_type": "display_data"
    }
   ],
   "source": [
    "# visualization loss \n",
    "plt.plot(iteration_list, loss_list)\n",
    "plt.xlabel(\"Number of iteration\")\n",
    "plt.ylabel(\"Loss\")\n",
    "plt.title(\"ANN: Loss vs Number of iteration\")\n",
    "plt.show()\n",
    "\n",
    "# visualization accuracy \n",
    "plt.plot(iteration_list,accuracy_list,color = \"red\")\n",
    "plt.xlabel(\"Number of iteration\")\n",
    "plt.ylabel(\"Accuracy\")\n",
    "plt.title(\"ANN: Accuracy vs Number of iteration\")\n",
    "plt.show()"
   ]
  },
  {
   "cell_type": "code",
   "execution_count": 178,
   "metadata": {},
   "outputs": [],
   "source": [
    "test_df = pd.read_csv(\"digit-recognizer/test.csv\")"
   ]
  },
  {
   "cell_type": "code",
   "execution_count": 197,
   "metadata": {},
   "outputs": [],
   "source": [
    "test_data = test_df.values / 255.0\n",
    "test_data = torch.from_numpy(test_data).type(torch.FloatTensor)\n",
    "predictions = []\n",
    "\n",
    "dataset = torch.utils.data.TensorDataset(test_data)\n",
    "dataloader = DataLoader(dataset, batch_size=batch_size, shuffle=False)\n",
    "for images in dataloader:\n",
    "    images = images[0]\n",
    "    test = Variable(images.view(-1, 28*28))\n",
    "    outputs = model(test) # only forward\n",
    "    predicted = torch.max(outputs.data, 1)[1]\n",
    "    predictions.extend(predicted)"
   ]
  },
  {
   "cell_type": "code",
   "execution_count": 227,
   "metadata": {},
   "outputs": [],
   "source": [
    "raw_dict = {}\n",
    "for i, v in enumerate(predictions):\n",
    "    raw_dict[i + 1] = v.numpy()\n",
    "\n",
    "out_df = pd.DataFrame(\n",
    "    data={\n",
    "        \"ImageId\": raw_dict.keys(),\n",
    "        \"Label\": raw_dict.values(),\n",
    "    }\n",
    ")\n",
    "out_df.to_csv('/tmp/ans.csv', index=False)"
   ]
  }
 ],
 "metadata": {
  "kernelspec": {
   "display_name": "Python 3",
   "language": "python",
   "name": "python3"
  },
  "language_info": {
   "codemirror_mode": {
    "name": "ipython",
    "version": 3
   },
   "file_extension": ".py",
   "mimetype": "text/x-python",
   "name": "python",
   "nbconvert_exporter": "python",
   "pygments_lexer": "ipython3",
   "version": "3.6.2+"
  }
 },
 "nbformat": 4,
 "nbformat_minor": 4
}
