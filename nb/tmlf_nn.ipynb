{
 "cells": [
  {
   "cell_type": "code",
   "execution_count": null,
   "metadata": {},
   "outputs": [],
   "source": [
    "from tmlf.python import tmlf_pybind, model_builder, workspace, optimizer\n",
    "import pandas as pd\n",
    "import numpy as np"
   ]
  },
  {
   "cell_type": "code",
   "execution_count": null,
   "metadata": {},
   "outputs": [],
   "source": [
    "nrows=1000\n",
    "df_train = pd.read_csv(\"../digit-recognizer/train.csv\", nrows=nrows)\n",
    "df_test = pd.read_csv(\"../digit-recognizer/test.csv\", nrows=nrows)"
   ]
  },
  {
   "cell_type": "code",
   "execution_count": null,
   "metadata": {},
   "outputs": [],
   "source": [
    "labels_np = df_train.label.to_numpy()\n",
    "features_np = df_train.loc[:, df_train.columns != 'label'].to_numpy() / 255.0\n",
    "\n",
    "from sklearn.model_selection import train_test_split\n",
    "X_train, X_valid, y_train, y_valid = train_test_split(features_np, labels_np, test_size=0.2, random_state=23)\n",
    "X_test = df_test.to_numpy() / 255.0"
   ]
  },
  {
   "cell_type": "code",
   "execution_count": null,
   "metadata": {},
   "outputs": [],
   "source": [
    "train_model_name = \"train_model\"\n",
    "valid_model_name = \"valid_model\"\n",
    "test_model_name = \"test_model\"\n",
    "\n",
    "for model_name, X, y in zip(\n",
    "    [train_model_name, valid_model_name, test_model_name],\n",
    "    [X_train.astype(np.float32), X_valid.astype(np.float32), X_test.astype(np.float32)],\n",
    "    [y_train.astype(np.float32), y_valid.astype(np.float32), None],\n",
    "):\n",
    "    if y is None:\n",
    "        y = np.full(X.shape, -1, dtype=np.float32)\n",
    "    workspace.feed_tensor(f\"{model_name}_X\", X)\n",
    "    workspace.feed_tensor(f\"{model_name}_y\", y)\n",
    "    workspace.feed_tensor(f\"{model_name}_cursor\", np.array([0], dtype=np.float32))"
   ]
  },
  {
   "cell_type": "code",
   "execution_count": null,
   "metadata": {},
   "outputs": [],
   "source": [
    "def create_model(name, train=True, metric=True, batch_size=100, hidden_dim=150):\n",
    "    model = model_builder.Model()\n",
    "    \n",
    "    # read input\n",
    "    model.circular_batch(\n",
    "        [f\"{name}_X\", f\"{name}_y\", f\"{name}_cursor\"],\n",
    "        [\"feat\", \"label\", f\"{name}_cursor\"],\n",
    "        batch_size=batch_size,\n",
    "    )\n",
    "    model.fc(\"feat\", \"fc1\", in_dim=28 * 28, out_dim=hidden_dim)\n",
    "    model.relu(\"fc1\", \"relu1\")\n",
    "    model.fc(\"relu1\", \"fc2\", in_dim=hidden_dim, out_dim=hidden_dim)\n",
    "    model.relu(\"fc2\", \"relu2\")\n",
    "    model.fc(\"relu2\", \"fc3\", in_dim=hidden_dim, out_dim=10)\n",
    "    model.softmax(\"fc3\", \"softmax\")\n",
    "    \n",
    "    if train or metric:\n",
    "        model.accuracy([\"softmax\", \"label\"], \"accuracy\")\n",
    "        model.label_cross_entropy([\"softmax\", \"label\"], \"xent\")\n",
    "        model.averaged_loss(\"xent\", \"loss\")\n",
    "        \n",
    "    if train:\n",
    "        model.add_backward_ops(\"loss\")\n",
    "        optimizer.build_sgd(model)\n",
    "        \n",
    "    return model"
   ]
  },
  {
   "cell_type": "code",
   "execution_count": null,
   "metadata": {},
   "outputs": [],
   "source": [
    "train_model = create_model(train_model_name)\n",
    "valid_model = create_model(valid_model_name, train=False, metric=True)\n",
    "test_model = create_model(test_model_name, train=False, metric=False)\n",
    "\n",
    "model_builder.run_net(train_model.init_net)"
   ]
  },
  {
   "cell_type": "code",
   "execution_count": null,
   "metadata": {},
   "outputs": [],
   "source": [
    "num_batches = 1000\n",
    "for itr in range(num_batches):\n",
    "    # model_builder.run_net(train_model.net)\n",
    "    pass"
   ]
  }
 ],
 "metadata": {
  "kernelspec": {
   "display_name": "Python 3",
   "language": "python",
   "name": "python3"
  },
  "language_info": {
   "codemirror_mode": {
    "name": "ipython",
    "version": 3
   },
   "file_extension": ".py",
   "mimetype": "text/x-python",
   "name": "python",
   "nbconvert_exporter": "python",
   "pygments_lexer": "ipython3",
   "version": "3.6.2+"
  }
 },
 "nbformat": 4,
 "nbformat_minor": 4
}
